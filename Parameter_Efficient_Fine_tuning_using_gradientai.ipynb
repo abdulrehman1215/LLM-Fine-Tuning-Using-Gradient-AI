{
  "nbformat": 4,
  "nbformat_minor": 0,
  "metadata": {
    "colab": {
      "provenance": [],
      "authorship_tag": "ABX9TyO0cEB2h9qqWX8NjJCUfKqF",
      "include_colab_link": true
    },
    "kernelspec": {
      "name": "python3",
      "display_name": "Python 3"
    },
    "language_info": {
      "name": "python"
    }
  },
  "cells": [
    {
      "cell_type": "markdown",
      "metadata": {
        "id": "view-in-github",
        "colab_type": "text"
      },
      "source": [
        "<a href=\"https://colab.research.google.com/github/abdulrehman1215/LLM-Fine-Tuning-Using-Gradient-AI/blob/main/Parameter_Efficient_Fine_tuning_using_gradientai.ipynb\" target=\"_parent\"><img src=\"https://colab.research.google.com/assets/colab-badge.svg\" alt=\"Open In Colab\"/></a>"
      ]
    },
    {
      "cell_type": "code",
      "execution_count": null,
      "metadata": {
        "colab": {
          "base_uri": "https://localhost:8080/"
        },
        "id": "rpyFgUFwig7j",
        "outputId": "13ea4825-6650-46ef-a507-3804d74ea1d6"
      },
      "outputs": [
        {
          "output_type": "stream",
          "name": "stdout",
          "text": [
            "Requirement already satisfied: gradientai in /usr/local/lib/python3.10/dist-packages (1.4.0)\n",
            "Requirement already satisfied: aenum>=3.1.11 in /usr/local/lib/python3.10/dist-packages (from gradientai) (3.1.15)\n",
            "Requirement already satisfied: pydantic<2.0.0,>=1.10.5 in /usr/local/lib/python3.10/dist-packages (from gradientai) (1.10.13)\n",
            "Requirement already satisfied: python-dateutil>=2.8.2 in /usr/local/lib/python3.10/dist-packages (from gradientai) (2.8.2)\n",
            "Requirement already satisfied: urllib3>=1.25.3 in /usr/local/lib/python3.10/dist-packages (from gradientai) (2.0.7)\n",
            "Requirement already satisfied: typing-extensions>=4.2.0 in /usr/local/lib/python3.10/dist-packages (from pydantic<2.0.0,>=1.10.5->gradientai) (4.5.0)\n",
            "Requirement already satisfied: six>=1.5 in /usr/local/lib/python3.10/dist-packages (from python-dateutil>=2.8.2->gradientai) (1.16.0)\n"
          ]
        }
      ],
      "source": [
        "!pip install gradientai --upgrade"
      ]
    },
    {
      "cell_type": "markdown",
      "source": [
        "## Set Environment Variables"
      ],
      "metadata": {
        "id": "SzURIyMNDU4o"
      }
    },
    {
      "cell_type": "code",
      "source": [
        "import os\n",
        "os.environ['GRADIENT_WORKSPACE_ID']=''\n",
        "os.environ['GRADIENT_ACCESS_TOKEN']=''"
      ],
      "metadata": {
        "id": "uu_KfffIin3Y"
      },
      "execution_count": null,
      "outputs": []
    },
    {
      "cell_type": "markdown",
      "source": [
        "# Training Examples\n",
        "\n",
        "\n",
        "*   Provide your prompt and desired response in form of string\n",
        "*   3-4 examples are fine but 8 - 10 are recommended (This may vary based on usecase to usecase)\n",
        "\n"
      ],
      "metadata": {
        "id": "t2gsqA2eCTAW"
      }
    },
    {
      "cell_type": "code",
      "source": [
        "summary_1 = \"During the meeting, specific tasks were assigned to ensure project progress. Alex Johnson was tasked with outlining the Marketing Strategy, due by January 4, 2024. Emily Brown took responsibility for creating UI/UX Wireframes, with a deadline set for January 4, 2024. Mark Thompson was designated to kick off Backend Development by the same deadline. John Doe committed to circulating the Meeting Minutes by January 4, 2024, while Jane Smith was responsible for scheduling Bi-weekly Check-ins, also due by January 4, 2024. Clear ownership and deadlines were established for each task to facilitate accountability and timely completion.\"\n",
        "response_1 = \"\"\"{\n",
        "  \"task_owners\": [\"Alex Johnson\",\"Emily Brown\",\"Mark Thompson\",\"John Doe\",\"Jane Smith\"],\n",
        "  \"tasks\": [\"Marketing Strategy Outline\",\"UI/UX Wireframes\",\"Backend Development Kickoff\",\"Circulate Meeting Minutes\",\"Schedule Bi-weekly Check-ins\"],\n",
        "  \"task_deadline\": [\"January 4, 2024\",\"January 4, 2024\",\"January 4, 2024\",\"January 4, 2024\",\"January 4, 2024\"]\n",
        "}\"\"\"\n",
        "summary_2 = \"In the Foodchain Operations meeting, critical tasks were allocated to Ali, Umer, and Bilal with defined deadlines. Ali took charge of inventory management, ensuring seamless stock replenishment, due by January 7, 2024. Umer was tasked with optimizing delivery logistics to enhance efficiency, with a deadline set for January 10, 2024. Meanwhile, Bilal was entrusted with vendor liaison and negotiation strategies, aiming for improved supply chain relations by January 15, 2024. The meeting emphasized the significance of these tasks in streamlining operations, maximizing customer satisfaction, and maintaining robust relationships with suppliers. Clear ownership and deadlines were established to ensure accountability and timely execution, fostering a cohesive and efficient food chain operation.\"\n",
        "response_2 = \"\"\"{\n",
        "  \"task_owners\": [\"Ali\",\"Umer\",\"Bilal\"],\n",
        "  \"tasks\": [\"Inventory Management\",\"Optimizing Delivery Logistics\",\"Vendor Liaison and Negotiation\"],\n",
        "  \"task_deadline\": [\"January 7, 2024\",\"January 10, 2024\",\"January 15, 2024\"]\n",
        "}\"\"\"\n",
        "\n",
        "summary_3 = \"In the Bank Operations meeting, pivotal tasks were delegated to Usama, John, and Shaista, each with specified deadlines. Usama was entrusted with conducting a comprehensive risk assessment by January 15, 2024, aiming to fortify the bank's security protocols. John was assigned the task of streamlining customer service processes, targeting enhancements to be implemented by January 20, 2024, ensuring optimal client experiences. Meanwhile, Shaista took charge of regulatory compliance checks, tasked to complete these critical evaluations by January 25, 2024, to maintain adherence to banking standards. The meeting highlighted the crucial role these tasks play in safeguarding the institution's integrity, enhancing customer satisfaction, and ensuring compliance with industry regulations. Explicit deadlines and responsibilities were outlined to ensure prompt and efficient execution, bolstering the bank's operational efficiency and regulatory adherence.\"\n",
        "response_3 = \"\"\"{\n",
        "  \"task_owners\": [\"Usama\",\"John\",\"Shaista\"],\n",
        "  \"tasks\": [\"Risk Assessment\",\"Customer Service Process Streamlining\",\"Regulatory Compliance Checks\"],\n",
        "  \"task_deadline\": [\"January 15, 2024\",\"January 20, 2024\",\"January 25, 2024\"]\n",
        "}\"\"\"\n",
        "\n",
        "summary_4 = \"During the Hospital Operations meeting, pivotal tasks were delegated to Babar, Shahbaz, and Ammar, each with defined deadlines crucial to operational efficiency. Babar assumed responsibility for inventory restocking and equipment maintenance, ensuring readiness by January 10, 2024. Shahbaz was tasked with optimizing patient scheduling and workflow management, aiming for improved efficiency by January 15, 2024. Ammar was entrusted with developing a training program for staff on new protocols and technology integration, due by January 20, 2024. The meeting highlighted the significance of these tasks in enhancing patient care, streamlining operations, and maintaining high-quality service standards. Clear task delineation and deadlines were set to drive accountability and ensure the hospital's smooth functioning, emphasizing the collective effort towards operational excellence.\"\n",
        "response_4 = \"\"\"{\n",
        "  \"task_owners\": [\"Babar\",\"Shahbaz\",\"Ammar\"],\n",
        "  \"tasks\": [\"Inventory Restocking and Equipment Maintenance\",\"Optimizing Patient Scheduling and Workflow Management\",\"Developing Staff Training Program on New Protocols and Technology Integration\"],\n",
        "  \"task_deadline\": [\"January 10, 2024\",\"January 15, 2024\",\"January 20, 2024\"]\n",
        "}\"\"\"\n",
        "\n",
        "summary_5 = \"During the weekly sprint planning meeting, the development team assigned key tasks for the upcoming iteration. Sarah took charge of implementing the new user interface design, targeting completion by Friday. John volunteered to tackle the backend API integration, aiming to finalize it by Tuesday. Maria committed to bug fixing and performance optimization, with a deadline of Thursday. The team emphasized the importance of clear communication and collaboration to ensure a successful sprint.\"\n",
        "response_5 = \"\"\"{\n",
        "  \"task_owners\": [\"Sarah\", \"John\", \"Maria\"],\n",
        "  \"tasks\": [\"Implement new UI design\",\"Integrate backend API\",\"Bug fixing and performance optimization\"],\n",
        "  \"task_deadline\": [\"Friday\",\"Tuesday\",\"Thursday\"]\n",
        "}\"\"\"\n",
        "\n",
        "summary_6 = \"The marketing team convened to finalize the launch strategy for their upcoming product campaign. Emma spearheaded the social media marketing efforts, aiming to generate buzz starting next week. Daniel led the content creation and press outreach, targeting media coverage by the end of the month. Liam coordinated influencer partnerships and promotional events, with a focus on driving conversions within the following quarter. The meeting underscored the need for synergy across channels to maximize campaign impact.\"\n",
        "response_6 = \"\"\"{\n",
        "  \"task_owners\": [\"Emma\", \"Daniel\", \"Liam\"],\n",
        "  \"tasks\": [\"Social media marketing\",\"Content creation and press outreach\",\"Influencer partnerships and promotional events\"],\n",
        "  \"task_deadline\": [\"Next week\",\"End of the month\",\"Within the following quarter\"]\n",
        "}\"\"\"\n",
        "\n",
        "summary_7 = \"The event planning committee outlined the logistical framework for the upcoming conference. Chloe managed venue booking and vendor contracts, securing finalization within two weeks. Alex oversaw speaker confirmations and session scheduling, aiming to complete the program by next month. David coordinated attendee registration and logistics, with a deadline of one month before the event. The meeting prioritized clear communication and contingency planning to ensure a seamless event experience.\"\n",
        "response_7 = \"\"\"{\n",
        "  \"task_owners\": [\"Chloe\", \"Alex\", \"David\"],\n",
        "  \"tasks\": [\"Venue booking and vendor contracts\",\"Speaker confirmations and session scheduling\",\"Attendee registration and logistics\"],\n",
        "  \"task_deadline\": [\"Within two weeks\",\"Next month\",\"One month before the event\"]\n",
        "}\"\"\"\n",
        "\n",
        "summary_8 = \"The finance department convened to allocate resources for the upcoming fiscal year. Michael led the budget analysis and forecasting, presenting revised spending projections by next quarter. Sarah spearheaded department-level budget requests, aiming to finalize allocations by the end of the month. David managed project-specific funding approvals, with a deadline of two months before project initiation. The meeting emphasized responsible spending and strategic resource allocation to achieve organizational goals.\"\n",
        "response_8 = \"\"\"{\n",
        "  \"task_owners\": [\"Michael\", \"Sarah\", \"David\"],\n",
        "  \"tasks\": [\"Budget analysis and forecasting\",\"Department-level budget requests\",\"Project-specific funding approvals\"],\n",
        "  \"task_deadline\": [\"Next quarter\",\"End of the month\",\"Two months before project initiation\"]\n",
        "}\"\"\"\n"
      ],
      "metadata": {
        "id": "LYYIJ2HPnLT9"
      },
      "execution_count": null,
      "outputs": []
    },
    {
      "cell_type": "markdown",
      "source": [
        "# Model Finetuning"
      ],
      "metadata": {
        "id": "estuzeLsM3QX"
      }
    },
    {
      "cell_type": "code",
      "source": [
        "from gradientai import Gradient\n",
        "\n",
        "gradient = Gradient()\n",
        "base_model = gradient.get_base_model(base_model_slug=\"nous-hermes2\")\n",
        "new_model_adapter = base_model.create_model_adapter(\n",
        "    name=\"AbdulRehmanModel2\"\n",
        ")\n",
        "print(f\"Created model adapter with id {new_model_adapter.id}\")\n",
        "sample_query = \"### Instruction: The meeting was held on November 7, 2023, and the attendees were Mr. Fitzgerald, Sarah, Alex, and Liam. They discussed tasks such as a marketing campaign, initial project proposal, client presentation, and deadlines. Liam will ensure the presentation is ready by the end of August and will provide assistance if needed. The meeting ended with everyone heading off to their tasks. \\n\\n ### Response:\"\n",
        "print(f\"Asking: {sample_query}\")\n",
        "## Before Finetuning\n",
        "samples=[\n",
        "    {\"inputs\":\"### Instruction: \"+summary_1+\" \\n\\n### Response: \" +response_1},\n",
        "    {\"inputs\":\"### Instruction: \"+summary_2+\" \\n\\n### Response: \" +response_2},\n",
        "    {\"inputs\":\"### Instruction: \"+summary_3+\" \\n\\n### Response: \" +response_3},\n",
        "    {\"inputs\":\"### Instruction: \"+summary_4+\" \\n\\n### Response: \" +response_4},\n",
        "    {\"inputs\":\"### Instruction: \"+summary_5+\" \\n\\n### Response: \" +response_5},\n",
        "    {\"inputs\":\"### Instruction: \"+summary_6+\" \\n\\n### Response: \" +response_6},\n",
        "    {\"inputs\":\"### Instruction: \"+summary_7+\" \\n\\n### Response: \" +response_7},\n",
        "    {\"inputs\":\"### Instruction: \"+summary_8+\" \\n\\n### Response: \" +response_8},\n",
        "\n",
        "]\n",
        "\n",
        "## Lets define parameters for finetuning\n",
        "num_epochs=3\n",
        "count=0\n",
        "while count<num_epochs:\n",
        "  print(f\"Fine tuning the model with iteration {count + 1}\")\n",
        "  new_model_adapter.fine_tune(samples=samples)\n",
        "  count=count+1\n",
        "\n",
        "#after fine tuning\n",
        "completion = new_model_adapter.complete(query=sample_query, max_generated_token_count=100).generated_output\n",
        "print(f\"Generated(after fine tuning): {completion}\")"
      ],
      "metadata": {
        "colab": {
          "base_uri": "https://localhost:8080/"
        },
        "id": "wDmIDUfdiqHU",
        "outputId": "845d4763-8fba-45b9-a070-8347deb28108"
      },
      "execution_count": null,
      "outputs": [
        {
          "output_type": "stream",
          "name": "stdout",
          "text": [
            "Created model adapter with id 8b592a7c-bd6f-461b-af11-658f0ea1b74b_model_adapter\n",
            "Asking: ### Instruction: The meeting was held on November 7, 2023, and the attendees were Mr. Fitzgerald, Sarah, Alex, and Liam. They discussed tasks such as a marketing campaign, initial project proposal, client presentation, and deadlines. Liam will ensure the presentation is ready by the end of August and will provide assistance if needed. The meeting ended with everyone heading off to their tasks. \n",
            "\n",
            " ### Response:\n",
            "Generated(before fine tuning):  Thank you for providing me with the information about the meeting. Could you please provide me with more details about the tasks discussed in the meeting? Specifically, what was the purpose of the marketing campaign, initial project proposal, and client presentation? Also, what were the deadlines discussed in the meeting? This will help me provide you with more accurate and relevant information.\n",
            "Fine tuning the model with iteration 1\n",
            "Fine tuning the model with iteration 2\n",
            "Fine tuning the model with iteration 3\n",
            "Generated(after fine tuning):  {\n",
            "  \"task_owners\": [\"Liam\"],\n",
            "  \"tasks\": [\"Presentation ready\"],\n",
            "  \"task_deadline\": [\"End of August\"]\n",
            "}\n"
          ]
        }
      ]
    },
    {
      "cell_type": "code",
      "source": [
        "completion = new_model_adapter.complete(query=sample_query, max_generated_token_count=200).generated_output\n",
        "print(completion)"
      ],
      "metadata": {
        "id": "8ahwdHOqoWXj",
        "colab": {
          "base_uri": "https://localhost:8080/"
        },
        "outputId": "32187681-9f66-489f-c65b-e60202b9583f"
      },
      "execution_count": null,
      "outputs": [
        {
          "output_type": "stream",
          "name": "stdout",
          "text": [
            " {\n",
            "  \"task_owners\": [\"Liam\"],\n",
            "  \"tasks\": [\"Presentation ready\"],\n",
            "  \"task_deadline\": [\"End of August\"]\n",
            "}\n"
          ]
        }
      ]
    },
    {
      "cell_type": "code",
      "source": [
        "import json\n",
        "data = json.loads(completion)\n",
        "type(data)"
      ],
      "metadata": {
        "colab": {
          "base_uri": "https://localhost:8080/"
        },
        "id": "Iaw3CyvMXJ8t",
        "outputId": "05b20dc6-018f-4b71-a2ca-c97ce5c1905e"
      },
      "execution_count": null,
      "outputs": [
        {
          "output_type": "execute_result",
          "data": {
            "text/plain": [
              "dict"
            ]
          },
          "metadata": {},
          "execution_count": 85
        }
      ]
    },
    {
      "cell_type": "markdown",
      "source": [
        "# Inference using LangChain"
      ],
      "metadata": {
        "id": "8beR4A9iMrOG"
      }
    },
    {
      "cell_type": "code",
      "source": [
        "!pip install langchain gradientai"
      ],
      "metadata": {
        "id": "lZNWJ-FLyXeP"
      },
      "execution_count": null,
      "outputs": []
    },
    {
      "cell_type": "code",
      "source": [
        "from langchain.chains import LLMChain\n",
        "from langchain.llms import GradientLLM\n",
        "from langchain.prompts import PromptTemplate\n",
        "import gradientai, os, json"
      ],
      "metadata": {
        "id": "MibOkKtBAT8F"
      },
      "execution_count": null,
      "outputs": []
    },
    {
      "cell_type": "code",
      "source": [
        "client = gradientai.Gradient()\n",
        "llm = GradientLLM(\n",
        "    # `ID` listed in `$ gradient model list`\n",
        "    model=\"8b592a7c-bd6f-461b-af11-658f0ea1b74b_model_adapter\", #Your Model Adapter Id\n",
        "    model_kwargs=dict(max_generated_token_count=150),\n",
        ")\n",
        "template = \"\"\"### Instruction: {meeting_summary} \\n\\n ### Response:\"\"\"\n",
        "prompt = PromptTemplate(template=template, input_variables=[\"meeting_summary\"])\n",
        "llm_chain = LLMChain(prompt=prompt, llm=llm)"
      ],
      "metadata": {
        "id": "a7yDb3UJBB7r"
      },
      "execution_count": null,
      "outputs": []
    },
    {
      "cell_type": "code",
      "source": [
        "def summary_to_dict(meeting_summary):\n",
        "  json_string = llm_chain.run(meeting_summary=meeting_summary)\n",
        "  data = json.loads(json_string)\n",
        "  return data"
      ],
      "metadata": {
        "id": "JRrwt7rqqmns"
      },
      "execution_count": null,
      "outputs": []
    },
    {
      "cell_type": "code",
      "source": [
        "meeting_summary = \"The meeting was held on November 7, 2023, and the attendees were Mr. Fitzgerald, Sarah, Alex, and Liam. They discussed tasks such as a marketing campaign, initial project proposal, client presentation, and deadlines. Liam will ensure the presentation is ready by the end of August and will provide assistance if needed. The meeting ended with everyone heading off to their tasks.\"\n",
        "data = summary_to_dict(meeting_summary)\n",
        "data"
      ],
      "metadata": {
        "colab": {
          "base_uri": "https://localhost:8080/"
        },
        "id": "iuVFWiCeFRxR",
        "outputId": "fe9bacee-e71c-41c9-8a73-94f4c9ce70a0"
      },
      "execution_count": null,
      "outputs": [
        {
          "output_type": "execute_result",
          "data": {
            "text/plain": [
              "{'task_owners': ['Liam'],\n",
              " 'tasks': ['Presentation ready'],\n",
              " 'task_deadline': ['End of August']}"
            ]
          },
          "metadata": {},
          "execution_count": 6
        }
      ]
    },
    {
      "cell_type": "code",
      "source": [
        "data = json.loads(json_string)\n",
        "data"
      ],
      "metadata": {
        "colab": {
          "base_uri": "https://localhost:8080/"
        },
        "id": "3GNGbLutGP8r",
        "outputId": "2a28f8ce-7fa4-44c3-a6dd-d65a7b08b741"
      },
      "execution_count": null,
      "outputs": [
        {
          "output_type": "execute_result",
          "data": {
            "text/plain": [
              "{'task_owners': ['Liam'],\n",
              " 'tasks': ['Presentation ready'],\n",
              " 'task_deadline': ['End of August']}"
            ]
          },
          "metadata": {},
          "execution_count": 99
        }
      ]
    }
  ]
}